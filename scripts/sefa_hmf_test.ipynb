{
 "cells": [
  {
   "cell_type": "code",
   "execution_count": 2,
   "metadata": {},
   "outputs": [],
   "source": [
    "from classy import Class\n",
    "import numpy as np\n",
    "import scipy.interpolate as inter\n",
    "from scipy.integrate import quad\n",
    "from numpy import log, sin, cos, pi\n",
    "from scipy.optimize import curve_fit\n",
    "import matplotlib.pyplot as plt\n",
    "import os"
   ]
  },
  {
   "cell_type": "code",
   "execution_count": 3,
   "metadata": {},
   "outputs": [
    {
     "name": "stdout",
     "output_type": "stream",
     "text": [
      "The value of OMP_NUM_THREADS is:  None\n",
      "The value of OMP_NUM_THREADS is:  8\n"
     ]
    }
   ],
   "source": [
    "envkey = 'OMP_NUM_THREADS'\n",
    "print(\"The value of {:s} is: \".format(envkey), os.environ.get(envkey))\n",
    "os.environ[envkey] = str(8)\n",
    "os.environ[envkey] = str(8)\n",
    "print(\"The value of {:s} is: \".format(envkey), os.environ.get(envkey))"
   ]
  },
  {
   "cell_type": "code",
   "execution_count": 4,
   "metadata": {},
   "outputs": [],
   "source": [
    "cosmo = Class()\n",
    "cosmo.set_default()\n",
    "cosmo.set({'output':'mPk',\n",
    "           'z_max_pk':5,\n",
    "           'P_k_max_1/Mpc':1.e3\n",
    "            })\n",
    "cosmo.compute()"
   ]
  },
  {
   "cell_type": "code",
   "execution_count": 5,
   "metadata": {},
   "outputs": [],
   "source": [
    "k_size = 100\n",
    "z_size = 100\n",
    "\n",
    "z_grid =np.array(np.linspace(0,5,z_size))\n",
    "k_grid =np.logspace(-4,3,k_size,base=10)\n"
   ]
  },
  {
   "cell_type": "code",
   "execution_count": 6,
   "metadata": {},
   "outputs": [],
   "source": [
    "p_kz_lin = np.zeros((k_size,z_size))\n",
    "for zi, zz in enumerate(z_grid):\n",
    "    for ki, kk in enumerate(k_grid):\n",
    "        p_kz_lin[ki,zi]= cosmo.pk_lin(kk,zz)\n",
    "p_kz_lin_spline = inter.RectBivariateSpline(k_grid,z_grid,p_kz_lin)"
   ]
  },
  {
   "cell_type": "code",
   "execution_count": 7,
   "metadata": {},
   "outputs": [],
   "source": [
    "H_z=np.zeros(z_size)\n",
    "Om_z = np.zeros(z_size)\n",
    "for zi, zz in enumerate(z_grid):\n",
    "    H_z[zi]=cosmo.Hubble(zz)*2.98e8\n",
    "    Om_z = cosmo.Om_m(zz)\n",
    "\n",
    "_G = 6.67259 * 10e-11 \n",
    "_Mpc = 3e22\n",
    "\n",
    "rho_c = 3 * np.power(H_z,2) / ( 8 * pi * _G) * _Mpc\n",
    "rho_z = Om_z * rho_c\n",
    "\n",
    "rho_z_spline = inter.CubicSpline(z_grid,rho_z)\n",
    "\n",
    "def M_to_R(M,z):\n",
    "    return np.power(M * 3/ (4 * pi * rho_z_spline(z)),1/3)"
   ]
  },
  {
   "cell_type": "code",
   "execution_count": 8,
   "metadata": {},
   "outputs": [],
   "source": [
    "def W(M,z,k):\n",
    "    return 4 * pi / np.power(k,3) * ( sin(k * M_to_R(M,z))-k * M_to_R(M,z) * cos (k * M_to_R(M,z)))\n",
    "    #return  2*sin(k*M_to_R(M,z)/2)/(k*M_to_R(M,z)) # ?"
   ]
  },
  {
   "cell_type": "code",
   "execution_count": 9,
   "metadata": {},
   "outputs": [],
   "source": [
    "def sigma_sqr(M,z): \n",
    "   return quad(lambda k: np.power(k,2)*(p_kz_lin_spline(k,z)) * np.power(W(M,z,k),2),1e-4,1e3)[0]"
   ]
  },
  {
   "cell_type": "code",
   "execution_count": 10,
   "metadata": {},
   "outputs": [
    {
     "name": "stdout",
     "output_type": "stream",
     "text": [
      "[10.82297402  2.89229975 -0.20227813]\n"
     ]
    },
    {
     "name": "stderr",
     "output_type": "stream",
     "text": [
      "/tmp/ipykernel_12713/3438864796.py:3: RuntimeWarning: invalid value encountered in log\n",
      "  return b1*np.power(x,0.9626-4)*np.power(b2+log(x+b3),2)\n"
     ]
    }
   ],
   "source": [
    "#not sure ob wir das brauchen aber ich hab keinen extrapolator\n",
    "def pk_lin_fitting(x,b1,b2,b3):\n",
    "    return b1*np.power(x,0.9626-4)*np.power(b2+log(x+b3),2)\n",
    "fitting_range_k=np.logspace(1,3,100,base=10)\n",
    "popt, pcov = curve_fit(pk_lin_fitting,fitting_range_k,(p_kz_lin_spline(fitting_range_k,0)).flatten())\n",
    "print(popt)"
   ]
  },
  {
   "cell_type": "code",
   "execution_count": 13,
   "metadata": {},
   "outputs": [
    {
     "name": "stderr",
     "output_type": "stream",
     "text": [
      "/tmp/ipykernel_12713/233312953.py:2: IntegrationWarning: The maximum number of subdivisions (50) has been achieved.\n",
      "  If increasing the limit yields no improvement it is advised to analyze \n",
      "  the integrand in order to determine the difficulties.  If the position of a \n",
      "  local difficulty can be determined (singularity, discontinuity) one will \n",
      "  probably gain from splitting up the interval and calling the integrator \n",
      "  on the subranges.  Perhaps a special-purpose integrator should be used.\n",
      "  return quad(lambda k: np.power(k,2)*(p_kz_lin_spline(k,z)) * np.power(W(M,z,k),2),1e-4,1e3)[0]\n"
     ]
    }
   ],
   "source": [
    "M_size = 100\n",
    "M_grid=np.logspace(30,40,M_size,base=10)\n",
    "sigma_sqr_array = np.zeros(M_size)\n",
    "for mi, mm in enumerate(M_grid):\n",
    "    sigma_sqr_array[mi]=sigma_sqr(mm,0)\n",
    "test = inter.UnivariateSpline(M_grid,np.sqrt(sigma_sqr_array)).derivative()\n",
    "dNdM=rho_z[0]/(M_grid*np.sqrt(sigma_sqr_array)*test(M_grid))\n"
   ]
  },
  {
   "cell_type": "code",
   "execution_count": 14,
   "metadata": {},
   "outputs": [
    {
     "data": {
      "text/plain": [
       "[<matplotlib.lines.Line2D at 0x7fb2aea9eb50>]"
      ]
     },
     "execution_count": 14,
     "metadata": {},
     "output_type": "execute_result"
    },
    {
     "data": {
      "image/png": "[encoded data removed]",
      "text/plain": [
       "<Figure size 640x480 with 1 Axes>"
      ]
     },
     "metadata": {},
     "output_type": "display_data"
    }
   ],
   "source": [
    "plt.loglog(M_grid,dNdM)"
   ]
  },
  {
   "cell_type": "code",
   "execution_count": null,
   "metadata": {},
   "outputs": [],
   "source": []
  }
 ],
 "metadata": {
  "kernelspec": {
   "display_name": "gwbg",
   "language": "python",
   "name": "python3"
  },
  "language_info": {
   "codemirror_mode": {
    "name": "ipython",
    "version": 3
   },
   "file_extension": ".py",
   "mimetype": "text/x-python",
   "name": "python",
   "nbconvert_exporter": "python",
   "pygments_lexer": "ipython3",
   "version": "3.10.6 (main, Oct 24 2022, 16:07:47) [GCC 11.2.0]"
  },
  "orig_nbformat": 4,
  "vscode": {
   "interpreter": {
    "hash": "ba385ed16a4e7eef2fe5a81c869a6fbd78fe6538969c6880f96952a776122bfe"
   }
  }
 },
 "nbformat": 4,
 "nbformat_minor": 2
}

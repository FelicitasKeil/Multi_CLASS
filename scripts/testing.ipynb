{
 "cells": [
  {
   "cell_type": "code",
   "execution_count": 20,
   "metadata": {},
   "outputs": [],
   "source": [
    "import matplotlib\n",
    "import matplotlib.pyplot as plt\n",
    "import numpy as np\n",
    "from classy import Class\n",
    "from scipy.optimize import fsolve\n",
    "from scipy.interpolate import interp1d\n",
    "from scipy.interpolate import UnivariateSpline\n",
    "from scipy.special import spherical_jn\n",
    "import math\n",
    "\n",
    "z_max_pk = 1000        # highest redshift involved\n",
    "k_per_decade = 400     # number of k values, controls final resolution\n",
    "k_min_tau0 = 40.       # this value controls the minimum k value in the figure (it is k_min * tau0)\n",
    "P_k_max_inv_Mpc =1.0   # this value is directly the maximum k value in the figure in Mpc\n",
    "tau_num_early = 2000   # number of conformal time values before rec., controls final resolution\n",
    "tau_num_late = 200     # number of conformal time values after rec., controls final resolution\n",
    "tau_ini = 10.          # first value of conformal time in Mpc\n",
    "\n",
    "LCDM = Class()\n",
    "common_settings = {'output':'nCl', # output: transfer functions only\n",
    "                   # LambdaCDM parameters\n",
    "                   'h':0.67556,\n",
    "                   'omega_b':0.022032,\n",
    "                   'omega_cdm':0.12038,\n",
    "                   'A_s':2.215e-9,\n",
    "                   'n_s':0.9619,\n",
    "                   'tau_reio':0.0925,\n",
    "                   # Take fixed value for primordial Helium (instead of automatic BBN adjustment)\n",
    "                   'YHe':0.246,\n",
    "                   # other output and precision parameters\n",
    "                   'z_max_pk':z_max_pk,\n",
    "                   # 'recfast_z_initial':z_max_pk,\n",
    "                   #'k_step_sub':'0.01',\n",
    "                   'k_per_decade_for_pk':k_per_decade,\n",
    "                   'k_per_decade_for_bao':k_per_decade,\n",
    "                   'k_min_tau0':k_min_tau0, # this value controls the minimum k value in the figure\n",
    "                   'perturb_sampling_stepsize':'0.05',\n",
    "                   'compute damping scale':'yes', # needed to output and plot Silk damping scale\n",
    "                   'gauge':'newtonian',\n",
    "                   'selection_mean': 1,\n",
    "                   'selection_window': 'gaussian',\n",
    "                   'selection_width': 0.2,\n",
    "                   'selection_bias': 1.81,\n",
    "                   'selection_magnification_bias':0,\n",
    "                   'selection_multitracing' : 'no'} "
   ]
  },
  {
   "cell_type": "code",
   "execution_count": 21,
   "metadata": {},
   "outputs": [],
   "source": [
    "LCDM.set(common_settings)\n",
    "LCDM.compute()"
   ]
  },
  {
   "cell_type": "code",
   "execution_count": 23,
   "metadata": {},
   "outputs": [
    {
     "data": {
      "text/plain": [
       "<function Class.density_cl>"
      ]
     },
     "execution_count": 23,
     "metadata": {},
     "output_type": "execute_result"
    }
   ],
   "source": [
    "LCDM.density_cl"
   ]
  },
  {
   "cell_type": "code",
   "execution_count": 24,
   "metadata": {},
   "outputs": [],
   "source": [
    "import matplotlib.pyplot as plt\n",
    "ll=np.linspace(2,299) "
   ]
  }
 ],
 "metadata": {
  "kernelspec": {
   "display_name": "gwbg",
   "language": "python",
   "name": "python3"
  },
  "language_info": {
   "codemirror_mode": {
    "name": "ipython",
    "version": 3
   },
   "file_extension": ".py",
   "mimetype": "text/x-python",
   "name": "python",
   "nbconvert_exporter": "python",
   "pygments_lexer": "ipython3",
   "version": "3.10.11"
  },
  "orig_nbformat": 4,
  "vscode": {
   "interpreter": {
    "hash": "ba385ed16a4e7eef2fe5a81c869a6fbd78fe6538969c6880f96952a776122bfe"
   }
  }
 },
 "nbformat": 4,
 "nbformat_minor": 2
}
